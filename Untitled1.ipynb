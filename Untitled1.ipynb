{
 "cells": [
  {
   "cell_type": "code",
   "execution_count": 7,
   "id": "fbb2c3bc-70c6-4d15-a8cb-0bec2664005d",
   "metadata": {},
   "outputs": [
    {
     "name": "stdout",
     "output_type": "stream",
     "text": [
      "Requirement already satisfied: pillow in c:\\users\\latha\\anaconda3\\lib\\site-packages (10.2.0)\n",
      "Note: you may need to restart the kernel to use updated packages.\n"
     ]
    }
   ],
   "source": [
    "pip install pillow"
   ]
  },
  {
   "cell_type": "code",
   "execution_count": 5,
   "id": "4918d3d7-9eb1-4500-a95c-595170bf1698",
   "metadata": {},
   "outputs": [
    {
     "name": "stdin",
     "output_type": "stream",
     "text": [
      "Enter the path of the image:  wall background.webp\n",
      "Enter a key (integer value) for encryption/decryption:  30\n"
     ]
    },
    {
     "name": "stdout",
     "output_type": "stream",
     "text": [
      "Image encrypted and saved as encrypted_image.png\n",
      "Pixel swapped image saved as swapped_image.png\n",
      "Reverted pixel swap saved as reverted_image.png\n",
      "Image decrypted and saved as decrypted_image.png\n"
     ]
    }
   ],
   "source": [
    "from PIL import Image\n",
    "import numpy as np\n",
    "\n",
    "# Function to encrypt the image by adding a constant to each pixel value\n",
    "def encrypt_image(image_path, output_path, key):\n",
    "    # Open the image\n",
    "    image = Image.open(image_path)\n",
    "    # Convert image to numpy array\n",
    "    image_data = np.array(image)\n",
    "    \n",
    "    # Encrypt: Apply a simple operation (e.g., adding key to pixel values)\n",
    "    encrypted_data = (image_data + key) % 256  # Ensure pixel values are in the range [0, 255]\n",
    "    \n",
    "    # Convert the encrypted array back to an image\n",
    "    encrypted_image = Image.fromarray(np.uint8(encrypted_data))\n",
    "    encrypted_image.save(output_path)\n",
    "    \n",
    "    print(f\"Image encrypted and saved as {output_path}\")\n",
    "\n",
    "# Function to decrypt the image by reversing the operation\n",
    "def decrypt_image(image_path, output_path, key):\n",
    "    # Open the image\n",
    "    image = Image.open(image_path)\n",
    "    # Convert image to numpy array\n",
    "    image_data = np.array(image)\n",
    "    \n",
    "    # Decrypt: Reverse the encryption (subtract the key)\n",
    "    decrypted_data = (image_data - key) % 256  # Ensure pixel values are in the range [0, 255]\n",
    "    \n",
    "    # Convert the decrypted array back to an image\n",
    "    decrypted_image = Image.fromarray(np.uint8(decrypted_data))\n",
    "    decrypted_image.save(output_path)\n",
    "    \n",
    "    print(f\"Image decrypted and saved as {output_path}\")\n",
    "\n",
    "# Swap pixels horizontally for additional encryption (Optional)\n",
    "def swap_pixels(image_path, output_path):\n",
    "    image = Image.open(image_path)\n",
    "    image_data = np.array(image)\n",
    "    \n",
    "    # Swapping adjacent pixel values horizontally\n",
    "    for row in image_data:\n",
    "        for i in range(0, len(row) - 1, 2):\n",
    "            row[i], row[i+1] = row[i+1], row[i]\n",
    "    \n",
    "    swapped_image = Image.fromarray(np.uint8(image_data))\n",
    "    swapped_image.save(output_path)\n",
    "    \n",
    "    print(f\"Pixel swapped image saved as {output_path}\")\n",
    "\n",
    "# Revert swapped pixels (Optional)\n",
    "def revert_swap_pixels(image_path, output_path):\n",
    "    image = Image.open(image_path)\n",
    "    image_data = np.array(image)\n",
    "    \n",
    "    # Revert the pixel swapping\n",
    "    for row in image_data:\n",
    "        for i in range(0, len(row) - 1, 2):\n",
    "            row[i], row[i+1] = row[i+1], row[i]\n",
    "    \n",
    "    reverted_image = Image.fromarray(np.uint8(image_data))\n",
    "    reverted_image.save(output_path)\n",
    "    \n",
    "    print(f\"Reverted pixel swap saved as {output_path}\")\n",
    "\n",
    "# Example usage\n",
    "if __name__ == \"__main__\":\n",
    "    image_path = input(\"Enter the path of the image: \")\n",
    "    key = int(input(\"Enter a key (integer value) for encryption/decryption: \"))\n",
    "    \n",
    "    # Encrypt and save the image\n",
    "    encrypt_image(image_path, \"encrypted_image.png\", key)\n",
    "    \n",
    "    # Optionally, swap pixels for extra security\n",
    "    swap_pixels(\"encrypted_image.png\", \"swapped_image.png\")\n",
    "    \n",
    "    # Decrypt and save the image (including swapping back pixels)\n",
    "    revert_swap_pixels(\"swapped_image.png\", \"reverted_image.png\")\n",
    "    decrypt_image(\"reverted_image.png\", \"decrypted_image.png\", key)\n"
   ]
  },
  {
   "cell_type": "code",
   "execution_count": 11,
   "id": "087aacd3-5a95-4187-9277-c6f5a83da87a",
   "metadata": {},
   "outputs": [],
   "source": [
    "encrypted_image = Image.open('encrypted_image.png')  # Open the encrypted image\n",
    "encrypted_image.show()  # Show the encrypted image\n"
   ]
  },
  {
   "cell_type": "code",
   "execution_count": 13,
   "id": "51acc103-b27d-4340-a241-fa7589761460",
   "metadata": {},
   "outputs": [],
   "source": [
    "decrypted_image = Image.open('decrypted_image.png')  # Open the decrypted image\n",
    "decrypted_image.show()  # Show the decrypted image\n"
   ]
  },
  {
   "cell_type": "code",
   "execution_count": 15,
   "id": "1ae89eb3-e5a1-4f75-bcec-ed8cdbe1fbef",
   "metadata": {},
   "outputs": [
    {
     "name": "stdin",
     "output_type": "stream",
     "text": [
      "Enter the path of the image:  wall background.webp\n",
      "Enter a key (integer value) for encryption/decryption:  50\n"
     ]
    },
    {
     "name": "stdout",
     "output_type": "stream",
     "text": [
      "Image encrypted and saved as encrypted_image.png\n",
      "Image decrypted and saved as decrypted_image.png\n"
     ]
    }
   ],
   "source": [
    "from PIL import Image\n",
    "import numpy as np\n",
    "\n",
    "# Function to encrypt the image\n",
    "def encrypt_image(image_path, output_path, key):\n",
    "    image = Image.open(image_path)\n",
    "    image_data = np.array(image)\n",
    "    encrypted_data = (image_data + key) % 256\n",
    "    encrypted_image = Image.fromarray(np.uint8(encrypted_data))\n",
    "    encrypted_image.save(output_path)\n",
    "    \n",
    "    # Show the encrypted image\n",
    "    encrypted_image.show()\n",
    "    print(f\"Image encrypted and saved as {output_path}\")\n",
    "\n",
    "# Function to decrypt the image\n",
    "def decrypt_image(image_path, output_path, key):\n",
    "    image = Image.open(image_path)\n",
    "    image_data = np.array(image)\n",
    "    decrypted_data = (image_data - key) % 256\n",
    "    decrypted_image = Image.fromarray(np.uint8(decrypted_data))\n",
    "    decrypted_image.save(output_path)\n",
    "    \n",
    "    # Show the decrypted image\n",
    "    decrypted_image.show()\n",
    "    print(f\"Image decrypted and saved as {output_path}\")\n",
    "\n",
    "# Example usage\n",
    "if __name__ == \"__main__\":\n",
    "    image_path = input(\"Enter the path of the image: \")  # Example: 'wall background.webp'\n",
    "    key = int(input(\"Enter a key (integer value) for encryption/decryption: \"))  # Example: 30\n",
    "    \n",
    "    # Encrypt the image and show the result\n",
    "    encrypt_image(image_path, \"encrypted_image.png\", key)\n",
    "    \n",
    "    # Decrypt the image and show the result\n",
    "    decrypt_image(\"encrypted_image.png\", \"decrypted_image.png\", key)\n"
   ]
  },
  {
   "cell_type": "code",
   "execution_count": null,
   "id": "29a02616-643f-4a7c-afe0-092ea5a45914",
   "metadata": {},
   "outputs": [],
   "source": []
  }
 ],
 "metadata": {
  "kernelspec": {
   "display_name": "Python 3 (ipykernel)",
   "language": "python",
   "name": "python3"
  },
  "language_info": {
   "codemirror_mode": {
    "name": "ipython",
    "version": 3
   },
   "file_extension": ".py",
   "mimetype": "text/x-python",
   "name": "python",
   "nbconvert_exporter": "python",
   "pygments_lexer": "ipython3",
   "version": "3.11.7"
  }
 },
 "nbformat": 4,
 "nbformat_minor": 5
}
